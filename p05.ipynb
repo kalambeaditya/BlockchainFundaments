{
 "cells": [
  {
   "cell_type": "code",
   "execution_count": 1,
   "id": "fa6fefc7",
   "metadata": {},
   "outputs": [
    {
     "name": "stdout",
     "output_type": "stream",
     "text": [
      "genesisBlock\n",
      "\n",
      "\n",
      " ----> Mining New Block -->\n",
      "\n",
      "\n",
      " ----> New Block mined successfully --> \n",
      "\n",
      "-----Block  0 ---------\n",
      " timestamp =  Mon Nov 21 09:52:22 2022 \n",
      " data =  genesisBlock \n",
      " previousHash =  00000 \n",
      " hash =  603ea8026f3befb3122fd175e517e109a894bc57d406dd5b5780fdbbe10b4efd\n",
      "\n",
      "-----Block  1 ---------\n",
      " timestamp =  Mon Nov 21 09:52:29 2022 \n",
      " data =  genesisBlock \n",
      " previousHash =  603ea8026f3befb3122fd175e517e109a894bc57d406dd5b5780fdbbe10b4efd \n",
      " hash =  06f1e4f29892a49566b970c731ad2ecff25038a209bfe187bef0bc186f7d3800\n"
     ]
    }
   ],
   "source": [
    "from hashlib import sha256\n",
    "import time\n",
    "\n",
    "class block:\n",
    "\tdef __init__ (self, timestamp, data, previousHash = ' '):\n",
    "\t\tself.timestamp = timestamp\n",
    "\t\tself.data = data\n",
    "\t\tself.previousHash = previousHash\n",
    "\t\tself.hash = self.calculateHash()\n",
    "\tdef calculateHash(self):\n",
    "\t\treturn sha256((str(self.timestamp) + \\\n",
    "                       str(self.data) + \\\n",
    "                       str(self.previousHash)).encode()).hexdigest()\n",
    "\n",
    "\n",
    "class blockchain:\n",
    "\tdef __init__(self):\n",
    "\t\tself.chain = [self.createGenesis()]\n",
    "\tdef createGenesis(self):\n",
    "\t\treturn block(time.ctime(), \"genesisBlock\", \"00000\")\n",
    "\tdef mineBlock(self, data):\n",
    "\t\tnode = block(time.ctime(), data, self.chain[-1].hash)\n",
    "\t\t# mining a new block to the blockchain\n",
    "\t\tself.chain.append(node)\n",
    "\tdef printBlockchain(self):\n",
    "\t\tfor i in range(len(self.chain)):\n",
    "\t\t\tprint(\"\\n-----Block \", i ,\"---------\\n timestamp = \", \n",
    "                  self.chain[i].timestamp,\"\\n data = \",\n",
    "                  self.chain[i].data, \"\\n previousHash = \",\n",
    "                  self.chain[i].previousHash,\"\\n hash = \",\n",
    "                  self.chain[i].hash)\n",
    "CEVcoin = blockchain()\n",
    "\n",
    "data = input()\n",
    "\n",
    "# sending data to get mined \n",
    "print(\"\\n\\n ----> Mining New Block -->\")\n",
    "CEVcoin.mineBlock(data)\n",
    "\n",
    "print(\"\\n\\n ----> New Block mined successfully --> \")\n",
    "\n",
    "CEVcoin.printBlockchain()\n"
   ]
  },
  {
   "cell_type": "code",
   "execution_count": null,
   "id": "4659879c",
   "metadata": {},
   "outputs": [],
   "source": []
  }
 ],
 "metadata": {
  "kernelspec": {
   "display_name": "Python 3 (ipykernel)",
   "language": "python",
   "name": "python3"
  },
  "language_info": {
   "codemirror_mode": {
    "name": "ipython",
    "version": 3
   },
   "file_extension": ".py",
   "mimetype": "text/x-python",
   "name": "python",
   "nbconvert_exporter": "python",
   "pygments_lexer": "ipython3",
   "version": "3.9.12"
  }
 },
 "nbformat": 4,
 "nbformat_minor": 5
}
