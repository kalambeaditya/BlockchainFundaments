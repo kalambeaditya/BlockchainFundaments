{
 "cells": [
  {
   "cell_type": "code",
   "execution_count": 6,
   "id": "8767e381",
   "metadata": {},
   "outputs": [
    {
     "name": "stdout",
     "output_type": "stream",
     "text": [
      "The hexadecimal equivalent of SHA256 is : \n",
      "ebe3f7219907ff819e1fbae2327f25f85158114309f6cff1f48fcf3259c30784\n",
      "\r\n",
      "The hexadecimal equivalent of SHA384 is : \n",
      "b0b71ce7ba08448cafe69e0783caba77fe0bfbeb3b1584285f7fb4d05e6cfde1cf5798dadba6f03c13eb8d34a515bea6\n",
      "\r\n",
      "The hexadecimal equivalent of SHA224 is : \n",
      "5fa7b8d0842d016481202d9734dce2c72ff8d699d5d9bdfbcc0a103e\n",
      "\r\n",
      "The hexadecimal equivalent of SHA512 is : \n",
      "059138fcab55c0e9cd5ab3e89b7855416a1cc792d415d05afca6c6de6243cfdcfca37d5c17ea75699254df0dd5ad795e4262d0fe3d947845f30aa7164ea758cf\n",
      "\r\n",
      "The hexadecimal equivalent of SHA1 is : \n",
      "8d77ce7bf18d572c5054b37d1fad9127ca3e1a94\n"
     ]
    }
   ],
   "source": [
    "import hashlib\n",
    "str = \"SIPNA COET\"\n",
    "\n",
    "print(\"The hexadecimal equivalent of SHA256 is : \")\n",
    "print(hashlib.sha256(str.encode()).hexdigest())\n",
    "print(\"\\r\")\n",
    "print(\"The hexadecimal equivalent of SHA384 is : \")\n",
    "print(hashlib.sha384(str.encode()).hexdigest())\n",
    "print(\"\\r\")\n",
    "print(\"The hexadecimal equivalent of SHA224 is : \")\n",
    "print(hashlib.sha224(str.encode()).hexdigest())\n",
    "print(\"\\r\")\n",
    "print(\"The hexadecimal equivalent of SHA512 is : \")\n",
    "print(hashlib.sha512(str.encode()).hexdigest())\n",
    "print(\"\\r\")\n",
    "print(\"The hexadecimal equivalent of SHA1 is : \")\n",
    "print(hashlib.sha1(str.encode()).hexdigest())\n"
   ]
  },
  {
   "cell_type": "code",
   "execution_count": null,
   "id": "141d0ed7",
   "metadata": {},
   "outputs": [],
   "source": []
  },
  {
   "cell_type": "code",
   "execution_count": null,
   "id": "4c8508c0",
   "metadata": {},
   "outputs": [],
   "source": []
  }
 ],
 "metadata": {
  "kernelspec": {
   "display_name": "Python 3 (ipykernel)",
   "language": "python",
   "name": "python3"
  },
  "language_info": {
   "codemirror_mode": {
    "name": "ipython",
    "version": 3
   },
   "file_extension": ".py",
   "mimetype": "text/x-python",
   "name": "python",
   "nbconvert_exporter": "python",
   "pygments_lexer": "ipython3",
   "version": "3.9.12"
  }
 },
 "nbformat": 4,
 "nbformat_minor": 5
}
