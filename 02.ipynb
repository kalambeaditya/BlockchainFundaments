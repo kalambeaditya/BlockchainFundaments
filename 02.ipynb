{
 "cells": [
  {
   "cell_type": "code",
   "execution_count": 1,
   "id": "2ecd56fd",
   "metadata": {},
   "outputs": [
    {
     "name": "stdout",
     "output_type": "stream",
     "text": [
      "The Value of P is :23\n",
      "The Value of G is :9\n",
      "The private key of Alice is 4\n",
      "The private key of Bob is 3\n",
      "Secret key for the Alice is : 9\n",
      "Secret Key for the Bob is : 9\n"
     ]
    }
   ],
   "source": [
    "def Diffie_Hellman_Algorithm():\n",
    "    P = 23\n",
    "    G = 9\n",
    "\n",
    "    print(\"The Value of P is :{}\\nThe Value of G is :{}\".format(P, G))\n",
    "\n",
    "    alice_private_key = 4\n",
    "    bob_private_key = 3\n",
    "\n",
    "    print(\"The private key of Alice is {}\\nThe private key of Bob is {}\".format(alice_private_key,bob_private_key))\n",
    "\n",
    "    # get generate the key\n",
    "    # pow(a,b,c) = pow(a,b) % c\n",
    "    x = pow(G,alice_private_key,P)\n",
    "    y = pow(G,bob_private_key,P)\n",
    "\n",
    "\n",
    "    # Secret key for Alice\n",
    "    ka = int(pow(y,alice_private_key,P))\n",
    "\t\n",
    "\t# Secret key for Bob\n",
    "    kb = int(pow(x,bob_private_key,P))\n",
    "\t\n",
    "    print('Secret key for the Alice is : %d'%(ka))\n",
    "    print('Secret Key for the Bob is : %d'%(kb))\n",
    "\n",
    "\n",
    "\n",
    "\n",
    "Diffie_Hellman_Algorithm()"
   ]
  },
  {
   "cell_type": "code",
   "execution_count": null,
   "id": "3865a466",
   "metadata": {},
   "outputs": [],
   "source": []
  }
 ],
 "metadata": {
  "kernelspec": {
   "display_name": "Python 3.9.12 ('base')",
   "language": "python",
   "name": "python3"
  },
  "language_info": {
   "codemirror_mode": {
    "name": "ipython",
    "version": 3
   },
   "file_extension": ".py",
   "mimetype": "text/x-python",
   "name": "python",
   "nbconvert_exporter": "python",
   "pygments_lexer": "ipython3",
   "version": "3.9.12"
  },
  "vscode": {
   "interpreter": {
    "hash": "c470ba01c56136fbab50fc948644d3f9c434fddc4806012f1c8e6b06c11bdbb5"
   }
  }
 },
 "nbformat": 4,
 "nbformat_minor": 5
}
